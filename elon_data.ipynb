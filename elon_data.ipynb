{
 "metadata": {
  "language_info": {
   "codemirror_mode": {
    "name": "ipython",
    "version": 3
   },
   "file_extension": ".py",
   "mimetype": "text/x-python",
   "name": "python",
   "nbconvert_exporter": "python",
   "pygments_lexer": "ipython3",
   "version": "3.8.5"
  },
  "orig_nbformat": 4,
  "kernelspec": {
   "name": "python3",
   "display_name": "Python 3.8.5 64-bit ('base': conda)"
  },
  "interpreter": {
   "hash": "62249ab88f004581040b552093f6a37d297968d50509d16f925c90e58a716667"
  }
 },
 "nbformat": 4,
 "nbformat_minor": 2,
 "cells": [
  {
   "cell_type": "code",
   "execution_count": 1,
   "metadata": {},
   "outputs": [],
   "source": [
    "import pandas as pd\n",
    "from pandas.core.frame import DataFrame\n",
    "import matplotlib.pyplot as plt"
   ]
  },
  {
   "cell_type": "code",
   "execution_count": 2,
   "metadata": {},
   "outputs": [
    {
     "output_type": "execute_result",
     "data": {
      "text/plain": [
       "                    id                                              tweet  \\\n",
       "0  1409968558877003776  @torybruno @Dynetics Should I bring a few spar...   \n",
       "1  1409968188620673030                          @torybruno @Dynetics Sure   \n",
       "2  1409964008682098688  @PassionFlix @ToscaMusk I liked your movie “Ho...   \n",
       "3  1409963681807544320  @nextspaceflight There is the internal goal if...   \n",
       "4  1409960205920649220  @torybruno @Dynetics When do the engines arriv...   \n",
       "\n",
       "           created_at                                       noun_phrases  \\\n",
       "0 2021-06-29 13:14:35   ['@ torybruno @', 'dynetics', 'spare engines …']   \n",
       "1 2021-06-29 13:13:06                 ['@ torybruno @', 'dynetics sure']   \n",
       "2 2021-06-29 12:56:30  ['passionflix', 'toscamusk', 'movie “', 'holly...   \n",
       "3 2021-06-29 12:55:12  ['@ nextspaceflight', 'internal goal', 'obviou...   \n",
       "4 2021-06-29 12:41:23                      ['@ torybruno @', 'dynetics']   \n",
       "\n",
       "   polarity  subjectivity  \n",
       "0 -0.256250      0.393750  \n",
       "1  0.500000      0.888889  \n",
       "2  0.750000      0.800000  \n",
       "3  0.095238      0.278571  \n",
       "4  0.000000      0.000000  "
      ],
      "text/html": "<div>\n<style scoped>\n    .dataframe tbody tr th:only-of-type {\n        vertical-align: middle;\n    }\n\n    .dataframe tbody tr th {\n        vertical-align: top;\n    }\n\n    .dataframe thead th {\n        text-align: right;\n    }\n</style>\n<table border=\"1\" class=\"dataframe\">\n  <thead>\n    <tr style=\"text-align: right;\">\n      <th></th>\n      <th>id</th>\n      <th>tweet</th>\n      <th>created_at</th>\n      <th>noun_phrases</th>\n      <th>polarity</th>\n      <th>subjectivity</th>\n    </tr>\n  </thead>\n  <tbody>\n    <tr>\n      <th>0</th>\n      <td>1409968558877003776</td>\n      <td>@torybruno @Dynetics Should I bring a few spar...</td>\n      <td>2021-06-29 13:14:35</td>\n      <td>['@ torybruno @', 'dynetics', 'spare engines …']</td>\n      <td>-0.256250</td>\n      <td>0.393750</td>\n    </tr>\n    <tr>\n      <th>1</th>\n      <td>1409968188620673030</td>\n      <td>@torybruno @Dynetics Sure</td>\n      <td>2021-06-29 13:13:06</td>\n      <td>['@ torybruno @', 'dynetics sure']</td>\n      <td>0.500000</td>\n      <td>0.888889</td>\n    </tr>\n    <tr>\n      <th>2</th>\n      <td>1409964008682098688</td>\n      <td>@PassionFlix @ToscaMusk I liked your movie “Ho...</td>\n      <td>2021-06-29 12:56:30</td>\n      <td>['passionflix', 'toscamusk', 'movie “', 'holly...</td>\n      <td>0.750000</td>\n      <td>0.800000</td>\n    </tr>\n    <tr>\n      <th>3</th>\n      <td>1409963681807544320</td>\n      <td>@nextspaceflight There is the internal goal if...</td>\n      <td>2021-06-29 12:55:12</td>\n      <td>['@ nextspaceflight', 'internal goal', 'obviou...</td>\n      <td>0.095238</td>\n      <td>0.278571</td>\n    </tr>\n    <tr>\n      <th>4</th>\n      <td>1409960205920649220</td>\n      <td>@torybruno @Dynetics When do the engines arriv...</td>\n      <td>2021-06-29 12:41:23</td>\n      <td>['@ torybruno @', 'dynetics']</td>\n      <td>0.000000</td>\n      <td>0.000000</td>\n    </tr>\n  </tbody>\n</table>\n</div>"
     },
     "metadata": {},
     "execution_count": 2
    }
   ],
   "source": [
    "# Elon database csv\n",
    "elon_df = pd.read_csv('elon_twitter_database/elon_sentsubj.csv', parse_dates=['created_at'], date_parser=pd.to_datetime)\n",
    "elon_df.head()"
   ]
  },
  {
   "cell_type": "code",
   "execution_count": 3,
   "metadata": {},
   "outputs": [],
   "source": [
    "# Sort Dataframe by create_at date\n",
    "elon_df = elon_df.sort_values(by='created_at')"
   ]
  },
  {
   "cell_type": "code",
   "execution_count": 4,
   "metadata": {},
   "outputs": [],
   "source": [
    "# Function to change subject string into a list of strings\n",
    "def is_subject(subject_field, subject_set):\n",
    "    subjects = set([i.lower().replace(\"'\", '') for i in subject_field.strip('[]').split(', ')])\n",
    "    check_subject = list(subject_set & subjects) != []\n",
    "    if check_subject:\n",
    "        return 1\n",
    "    else:\n",
    "        return 0"
   ]
  },
  {
   "cell_type": "code",
   "execution_count": 5,
   "metadata": {},
   "outputs": [],
   "source": [
    "# For Function: Noun phrases I want to find in database\n",
    "tesla_fields = set(['tesla', 'autopilot'])\n",
    "btc_fields = set(['btc', 'bitcoin'])\n",
    "eth_fields = set(['ethereum', 'eth'])\n",
    "doge_fields = set(['dogecoin', 'doge', 'egod'])\n",
    "crypto_fields = {*btc_fields, *eth_fields, *doge_fields, *['crypto', 'moon', 'currency']}"
   ]
  },
  {
   "cell_type": "code",
   "execution_count": 6,
   "metadata": {},
   "outputs": [],
   "source": [
    "# For Function: Creating column to store values from the function.\n",
    "elon_df['is_tesla'] = elon_df['noun_phrases'].apply(func=is_subject, subject_set=tesla_fields)\n",
    "elon_df['is_doge'] = elon_df['noun_phrases'].apply(func=is_subject, subject_set=doge_fields)\n",
    "elon_df['is_btc'] = elon_df['noun_phrases'].apply(func=is_subject, subject_set=btc_fields)\n",
    "elon_df['is_crypto'] = elon_df['noun_phrases'].apply(func=is_subject, subject_set=crypto_fields)"
   ]
  },
  {
   "cell_type": "code",
   "execution_count": 7,
   "metadata": {},
   "outputs": [],
   "source": [
    "# DataFrames for each variable I want to plot\n",
    "# tesla_tweets: DataFrame = elon_df.loc[elon_df['is_tesla']==True]\n",
    "# dodge_tweets: DataFrame = elon_df.loc[elon_df['is_doge']==True]\n",
    "# btc_tweets: DataFrame = elon_df.loc[elon_df['is_btc']==True]\n",
    "# crypto_tweets: DataFrame = elon_df.loc[elon_df['is_crypto']==True]"
   ]
  },
  {
   "cell_type": "code",
   "execution_count": 8,
   "metadata": {},
   "outputs": [],
   "source": [
    "# Setting up bitcoin dataframe\n",
    "bitcoin = R'bitcoin_database\\Cleaned\\BTCUSDT.csv'\n",
    "bitcoin_df = pd.read_csv(bitcoin)\n",
    "for col in ['Open Time', 'Close Time']:\n",
    "    bitcoin_df[col] = pd.to_datetime(bitcoin_df[col], unit='ms')\n",
    "bitcoin_df = bitcoin_df.drop(columns=['Close', 'Close Time'])\n",
    "\n",
    "# Setting up dogecoin dataframe\n",
    "dogecoin = R'dogecoin_database\\Cleaned\\DOGEUSDT.csv'\n",
    "dogecoin_df = pd.read_csv(dogecoin)\n",
    "for col in ['Open Time', 'Close Time']:\n",
    "    dogecoin_df[col] = pd.to_datetime(dogecoin_df[col], unit='ms')\n",
    "dogecoin_df = dogecoin_df.drop(columns=['Close', 'Close Time'])"
   ]
  },
  {
   "cell_type": "code",
   "execution_count": 9,
   "metadata": {},
   "outputs": [],
   "source": [
    "# Function that will return new dataframe\n",
    "def find_intervals(df_row, target_coin: DataFrame, interval: str = '5 minutes', plusminus='after'):\n",
    "    td = pd.Timedelta(interval)\n",
    "    timestamp = df_row['created_at']\n",
    "    #  For current tweet (row) pull target coin data for specified interval before or after tweets timestamp\n",
    "    if plusminus == 'after':\n",
    "        coin_df = target_coin.where(target_coin['Open Time'].between(timestamp, timestamp+td)).dropna()\n",
    "    elif plusminus == 'before':\n",
    "        coin_df = target_coin.where(target_coin['Open Time'].between(timestamp, timestamp-td)).dropna()\n",
    "    # Find values I want and populate columns for them\n",
    "    try:\n",
    "        dfmin = coin_df['Open'].iloc[0]\n",
    "        dfmax = coin_df['Open'].iloc[-1]\n",
    "\n",
    "        change = (dfmax - dfmin) / dfmin\n",
    "\n",
    "        df_row[interval + ' beginning value'] = dfmin\n",
    "        df_row[interval + ' end value'] = dfmax\n",
    "        df_row[interval + ' change pct'] = change\n",
    "\n",
    "        return df_row\n",
    "\n",
    "    except Exception as e:\n",
    "        return df_row.apply(lambda x: None)"
   ]
  },
  {
   "cell_type": "code",
   "execution_count": null,
   "metadata": {},
   "outputs": [],
   "source": []
  },
  {
   "cell_type": "code",
   "execution_count": 14,
   "metadata": {
    "tags": []
   },
   "outputs": [],
   "source": [
    "# Defining the intervals I want for the \n",
    "intervals = ['5 minutes', '30 minutes']\n",
    "intervals_plusminus = [('5 minutes', 'after'), ('30 minutes', 'after')]\n",
    "\n",
    "# Loop will apply function to every row\n",
    "crypto_btcval_tweets = crypto_tweets\n",
    "crypto_dogeval_tweets = crypto_tweets\n",
    "for interval, plusminus in intervals_plusminus:\n",
    "    crypto_btcval_tweets = crypto_btcval_tweets.apply(find_intervals, axis=1, target_coin=bitcoin_df, interval=interval, plusminus=plusminus)\n",
    "    crypto_dogeval_tweets = crypto_dogeval_tweets.apply(find_intervals, axis=1, target_coin=dogecoin_df, interval=interval, plusminus=plusminus)\n",
    "\n",
    "crypto_btcval_tweets = crypto_btcval_tweets.dropna()\n",
    "crypto_dogeval_tweets = crypto_dogeval_tweets.dropna()"
   ]
  },
  {
   "cell_type": "code",
   "execution_count": 15,
   "metadata": {},
   "outputs": [],
   "source": [
    "# Not sure why columns got messed up, but fixing it here\n",
    "crypto_btcval_tweets = crypto_btcval_tweets[['id', 'created_at', 'tweet', 'noun_phrases', 'polarity', 'subjectivity', 'is_btc', 'is_doge', 'is_crypto', 'is_tesla', '5 minutes beginning value', '5 minutes end value', '5 minutes change pct', '30 minutes beginning value', '30 minutes end value', '30 minutes change pct']]\n",
    "crypto_dogeval_tweets = crypto_dogeval_tweets[['id', 'created_at', 'tweet', 'noun_phrases', 'polarity', 'subjectivity', 'is_btc', 'is_doge', 'is_crypto', 'is_tesla', '5 minutes beginning value', '5 minutes end value', '5 minutes change pct', '30 minutes beginning value', '30 minutes end value', '30 minutes change pct']]\n",
    "\n",
    "crypto_btcval_tweets.to_csv('crypto_btcval_tweets.csv', index=False)\n",
    "crypto_dogeval_tweets.to_csv('crypto_dogeval_tweets.csv', index=False)"
   ]
  },
  {
   "cell_type": "code",
   "execution_count": null,
   "metadata": {},
   "outputs": [],
   "source": []
  }
 ]
}